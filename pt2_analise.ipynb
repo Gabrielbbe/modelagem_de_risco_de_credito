{
 "cells": [
  {
   "cell_type": "markdown",
   "metadata": {},
   "source": [
    "# Pt 2 análise de risco de crédito modelos diferentes"
   ]
  },
  {
   "cell_type": "code",
   "execution_count": 1,
   "metadata": {},
   "outputs": [],
   "source": [
    "import pandas as pd\n",
    "import numpy as np\n",
    "import matplotlib.pyplot as plt\n",
    "import seaborn as sns\n",
    "from sklearn.preprocessing import OrdinalEncoder\n",
    "from sklearn.model_selection import train_test_split\n",
    "from sklearn.linear_model import LogisticRegression\n",
    "import statsmodels.api as sm\n",
    "from sklearn.metrics import accuracy_score, confusion_matrix, classification_report\n",
    "from sklearn.metrics import confusion_matrix, ConfusionMatrixDisplay\n",
    "from sklearn.metrics import precision_recall_curve, roc_curve\n",
    "from matplotlib import pyplot"
   ]
  },
  {
   "cell_type": "code",
   "execution_count": 2,
   "metadata": {},
   "outputs": [],
   "source": [
    "df = pd.read_csv('credit_risk_dataset.csv', sep = ',')"
   ]
  },
  {
   "cell_type": "markdown",
   "metadata": {},
   "source": [
    "# Utilizando apenas as variáveis que o modelo selecionou como relevantes através do p-valor"
   ]
  },
  {
   "cell_type": "code",
   "execution_count": 3,
   "metadata": {},
   "outputs": [
    {
     "name": "stderr",
     "output_type": "stream",
     "text": [
      "/tmp/ipykernel_14411/1731617212.py:7: SettingWithCopyWarning: \n",
      "A value is trying to be set on a copy of a slice from a DataFrame.\n",
      "Try using .loc[row_indexer,col_indexer] = value instead\n",
      "\n",
      "See the caveats in the documentation: https://pandas.pydata.org/pandas-docs/stable/user_guide/indexing.html#returning-a-view-versus-a-copy\n",
      "  X['loan_grade'] = encoder.fit_transform(X[['loan_grade']])\n"
     ]
    }
   ],
   "source": [
    "# teste 3 \n",
    "\n",
    "y = df['loan_status']\n",
    "\n",
    "encoder = OrdinalEncoder(categories=[['A', \"B\", \"C\", \"D\", 'E', 'F', 'G']])\n",
    "X = df[['loan_grade', 'loan_amnt', 'loan_percent_income']]\n",
    "X['loan_grade'] = encoder.fit_transform(X[['loan_grade']])\n",
    "\n"
   ]
  },
  {
   "cell_type": "markdown",
   "metadata": {},
   "source": [
    "### Dividindo os dados para fazermos cross validation"
   ]
  },
  {
   "cell_type": "code",
   "execution_count": 4,
   "metadata": {},
   "outputs": [],
   "source": [
    "X_train, X_test, y_train, y_test = train_test_split(X, y, stratify=y , test_size=0.2, random_state=42)"
   ]
  },
  {
   "cell_type": "markdown",
   "metadata": {},
   "source": [
    "### Ajustando o modelo de regressão logística"
   ]
  },
  {
   "cell_type": "markdown",
   "metadata": {},
   "source": [
    "Estou ajustando usando duas bibliotecas diferentes, porque o modelo do statsmodel mostra uma descrição do modelo mais fácil de ser visualizada."
   ]
  },
  {
   "cell_type": "code",
   "execution_count": 5,
   "metadata": {},
   "outputs": [
    {
     "name": "stdout",
     "output_type": "stream",
     "text": [
      "Optimization terminated successfully.\n",
      "         Current function value: 0.574519\n",
      "         Iterations 6\n"
     ]
    }
   ],
   "source": [
    "model = LogisticRegression()\n",
    "model.fit(X_train, y_train)\n",
    "model1 = sm.Logit(y_train, X_train).fit()"
   ]
  },
  {
   "cell_type": "code",
   "execution_count": 6,
   "metadata": {},
   "outputs": [],
   "source": [
    "y_pred = model.predict(X_test)\n",
    "y_predm1 = model1.predict(X_test)"
   ]
  },
  {
   "cell_type": "code",
   "execution_count": 7,
   "metadata": {},
   "outputs": [
    {
     "name": "stdout",
     "output_type": "stream",
     "text": [
      "                           Logit Regression Results                           \n",
      "==============================================================================\n",
      "Dep. Variable:            loan_status   No. Observations:                26064\n",
      "Model:                          Logit   Df Residuals:                    26061\n",
      "Method:                           MLE   Df Model:                            2\n",
      "Date:                Wed, 27 Sep 2023   Pseudo R-squ.:                -0.09523\n",
      "Time:                        13:18:22   Log-Likelihood:                -14974.\n",
      "converged:                       True   LL-Null:                       -13672.\n",
      "Covariance Type:            nonrobust   LLR p-value:                     1.000\n",
      "=======================================================================================\n",
      "                          coef    std err          z      P>|z|      [0.025      0.975]\n",
      "---------------------------------------------------------------------------------------\n",
      "loan_grade              0.1890      0.011     16.729      0.000       0.167       0.211\n",
      "loan_amnt              -0.0002    3.6e-06    -50.909      0.000      -0.000      -0.000\n",
      "loan_percent_income     4.0287      0.166     24.277      0.000       3.703       4.354\n",
      "=======================================================================================\n"
     ]
    }
   ],
   "source": [
    "print(model1.summary())"
   ]
  },
  {
   "cell_type": "markdown",
   "metadata": {},
   "source": [
    "### Podemos observar o valor dos coeficientes e seus respectivos p-valores, desvio padrão da estimativa dos coeficientes e intervalo de confiança.\n",
    "### A idade da pessoa tem coeficiente negativo indicando que quando a idade aumenta a chance de inadimplência diminui, o mesmo com a renda da pessoa, o tempo em que a pessoa está empregada, a quantidade no empréstimo, taxa de juros, todas as intenções para o empréstimo e quando a pessoa possui a própria residência. "
   ]
  },
  {
   "cell_type": "code",
   "execution_count": 8,
   "metadata": {},
   "outputs": [
    {
     "name": "stdout",
     "output_type": "stream",
     "text": [
      "loan_grade             False\n",
      "loan_amnt               True\n",
      "loan_percent_income    False\n",
      "dtype: bool\n"
     ]
    }
   ],
   "source": [
    "print(model1.params < 0 )"
   ]
  },
  {
   "cell_type": "markdown",
   "metadata": {},
   "source": [
    "### quais coeficientes possuem p-valor maior que o nível de significância de 5%?"
   ]
  },
  {
   "cell_type": "code",
   "execution_count": 9,
   "metadata": {},
   "outputs": [
    {
     "name": "stdout",
     "output_type": "stream",
     "text": [
      "loan_grade             False\n",
      "loan_amnt              False\n",
      "loan_percent_income    False\n",
      "dtype: bool\n"
     ]
    }
   ],
   "source": [
    "print(model1.pvalues >= 0.05 )"
   ]
  },
  {
   "cell_type": "markdown",
   "metadata": {},
   "source": [
    "### Apenas a intenção de melhorar a residência, possuir e própria residência, e se a pessoa já foi inadimplente que possuem p-valor maior que 0.05 o p-valor pode ser menor do que 0.05 por conta da aleatoriedade mesmo ou estas variáveis não agregam tanto assim para a predição mesmo."
   ]
  },
  {
   "cell_type": "code",
   "execution_count": 10,
   "metadata": {},
   "outputs": [],
   "source": [
    "accuracy = accuracy_score(y_test, y_pred)\n",
    "confusion = confusion_matrix(y_test, y_pred, labels=model.classes_)\n",
    "report = classification_report(y_test, y_pred)"
   ]
  },
  {
   "cell_type": "code",
   "execution_count": 11,
   "metadata": {},
   "outputs": [],
   "source": [
    "accuracy = accuracy_score(y_test, y_pred)\n",
    "confusion = confusion_matrix(y_test, y_pred, labels=model.classes_)\n",
    "report = classification_report(y_test, y_pred)"
   ]
  },
  {
   "cell_type": "code",
   "execution_count": 12,
   "metadata": {},
   "outputs": [
    {
     "name": "stdout",
     "output_type": "stream",
     "text": [
      "Acurácia: 0.834279576492251\n"
     ]
    }
   ],
   "source": [
    "print(\"Acurácia:\",accuracy)"
   ]
  },
  {
   "cell_type": "code",
   "execution_count": 13,
   "metadata": {},
   "outputs": [
    {
     "name": "stdout",
     "output_type": "stream",
     "text": [
      "report:               precision    recall  f1-score   support\n",
      "\n",
      "           0       0.86      0.95      0.90      5095\n",
      "           1       0.69      0.43      0.53      1422\n",
      "\n",
      "    accuracy                           0.83      6517\n",
      "   macro avg       0.78      0.69      0.71      6517\n",
      "weighted avg       0.82      0.83      0.82      6517\n",
      "\n"
     ]
    }
   ],
   "source": [
    "print('report:', report)"
   ]
  },
  {
   "cell_type": "code",
   "execution_count": 14,
   "metadata": {},
   "outputs": [
    {
     "data": {
      "image/png": "[encoded data removed]",
      "text/plain": [
       "<Figure size 640x480 with 2 Axes>"
      ]
     },
     "metadata": {},
     "output_type": "display_data"
    }
   ],
   "source": [
    "\n",
    "disp = ConfusionMatrixDisplay(confusion_matrix=confusion,\n",
    "                              display_labels=model.classes_)\n",
    "disp.plot()\n",
    "plt.show()"
   ]
  },
  {
   "cell_type": "code",
   "execution_count": 15,
   "metadata": {},
   "outputs": [
    {
     "name": "stdout",
     "output_type": "stream",
     "text": [
      "Precisão é aproximadamente 69,47%\n",
      "Sensitividade é aproximadamente 57,10%\n",
      "Especifidade é aproximadamente 94,73%\n"
     ]
    }
   ],
   "source": [
    "print('Precisão é aproximadamente 69,47%' )\n",
    "print('Sensitividade é aproximadamente 57,10%')\n",
    "print('Especifidade é aproximadamente 94,73%')"
   ]
  },
  {
   "cell_type": "markdown",
   "metadata": {},
   "source": [
    "### O nosso modelo está com uma sensitividade baixa e uma especifidade alta, isso quer dizer que ele classifica os não inadimplentes de forma correta na maior parte das vezes que ele classifica como não inadimplente, mas quando ele classifica como inadimplente ele erra a maior parte das vezes, e que ele classifica inadimplentes como não inadimplentes com frequencia."
   ]
  },
  {
   "cell_type": "code",
   "execution_count": 16,
   "metadata": {},
   "outputs": [
    {
     "data": {
      "image/png": "[encoded data removed]",
      "text/plain": [
       "<Figure size 640x480 with 1 Axes>"
      ]
     },
     "metadata": {},
     "output_type": "display_data"
    }
   ],
   "source": [
    "# probabilidade das predições\n",
    "y_chapeu = model.predict_proba(X_test)\n",
    "pos_probs = y_chapeu[:, 1] # prob de positivo.\n",
    "# calculando linha de inadimplentes \n",
    "inadimplente = len(y[y==1])/len(y)\n",
    "\n",
    "# plot da precision-recall curve do grupo de inadimplentes\n",
    "pyplot.plot([0, 1], [inadimplente, inadimplente], linestyle='--', label='inadimplente')\n",
    "\n",
    "# calculando precision-recall curve\n",
    "precision, recall, _ = precision_recall_curve(y_test, pos_probs)\n",
    "# plot the model precision-recall curve\n",
    "pyplot.plot(recall, precision, marker='.', label='Regressão logística')\n",
    "# axis labels\n",
    "pyplot.xlabel('Recall')\n",
    "pyplot.ylabel('Precision')\n",
    "# show the legend\n",
    "pyplot.legend()\n",
    "# show the plot\n",
    "pyplot.show()\n"
   ]
  },
  {
   "cell_type": "markdown",
   "metadata": {},
   "source": [
    "# Utilizando Dummie variables:"
   ]
  },
  {
   "cell_type": "code",
   "execution_count": 17,
   "metadata": {},
   "outputs": [],
   "source": [
    "# teste 2\n",
    "y = df['loan_status']\n",
    "X = pd.get_dummies(df, columns=['loan_grade', 'loan_intent', 'person_home_ownership', 'cb_person_default_on_file'])\n",
    "X = X.drop('loan_status', axis = 1)\n"
   ]
  },
  {
   "cell_type": "markdown",
   "metadata": {},
   "source": [
    "### Dividindo os dados para fazermos cross validation"
   ]
  },
  {
   "cell_type": "code",
   "execution_count": 18,
   "metadata": {},
   "outputs": [],
   "source": [
    "X_train, X_test, y_train, y_test = train_test_split(X, y, stratify=y , test_size=0.2, random_state=42)"
   ]
  },
  {
   "cell_type": "markdown",
   "metadata": {},
   "source": [
    "### Agora vamos substituir os dados faltantes"
   ]
  },
  {
   "cell_type": "code",
   "execution_count": 20,
   "metadata": {},
   "outputs": [],
   "source": [
    "X_train['loan_int_rate'] = X_train['loan_int_rate'].fillna(np.mean(X_train['loan_int_rate']))\n",
    "X_train['person_emp_length'] = X_train['person_emp_length'].fillna(np.mean(X_train['person_emp_length']))\n",
    "\n",
    "X_test['loan_int_rate'] = X_test['loan_int_rate'].fillna(np.mean(X_test['loan_int_rate']))\n",
    "X_test['person_emp_length'] = X_test['person_emp_length'].fillna(np.mean(X_test['person_emp_length']))\n"
   ]
  },
  {
   "cell_type": "markdown",
   "metadata": {},
   "source": [
    "### Ajustando o modelo de regressão logística"
   ]
  },
  {
   "cell_type": "markdown",
   "metadata": {},
   "source": [
    "Estou ajustando usando duas bibliotecas diferentes, porque o modelo do statsmodel mostra uma descrição do modelo mais fácil de ser visualizada."
   ]
  },
  {
   "cell_type": "code",
   "execution_count": 21,
   "metadata": {},
   "outputs": [
    {
     "name": "stdout",
     "output_type": "stream",
     "text": [
      "Optimization terminated successfully.\n",
      "         Current function value: 0.339634\n",
      "         Iterations 8\n"
     ]
    }
   ],
   "source": [
    "model = LogisticRegression()\n",
    "model.fit(X_train, y_train)\n",
    "model1 = sm.Logit(y_train, X_train).fit()"
   ]
  },
  {
   "cell_type": "code",
   "execution_count": 22,
   "metadata": {},
   "outputs": [],
   "source": [
    "y_pred = model.predict(X_test)\n",
    "y_predm1 = model1.predict(X_test)"
   ]
  },
  {
   "cell_type": "code",
   "execution_count": 23,
   "metadata": {},
   "outputs": [
    {
     "name": "stdout",
     "output_type": "stream",
     "text": [
      "                           Logit Regression Results                           \n",
      "==============================================================================\n",
      "Dep. Variable:            loan_status   No. Observations:                26064\n",
      "Model:                          Logit   Df Residuals:                    26041\n",
      "Method:                           MLE   Df Model:                           22\n",
      "Date:                Wed, 27 Sep 2023   Pseudo R-squ.:                  0.3525\n",
      "Time:                        13:20:24   Log-Likelihood:                -8852.2\n",
      "converged:                       True   LL-Null:                       -13672.\n",
      "Covariance Type:            nonrobust   LLR p-value:                     0.000\n",
      "==================================================================================================\n",
      "                                     coef    std err          z      P>|z|      [0.025      0.975]\n",
      "--------------------------------------------------------------------------------------------------\n",
      "person_age                        -0.0051      0.006     -0.813      0.416      -0.017       0.007\n",
      "person_income                   6.986e-07   3.35e-07      2.087      0.037    4.26e-08    1.35e-06\n",
      "person_emp_length                 -0.0133      0.005     -2.516      0.012      -0.024      -0.003\n",
      "loan_amnt                      -9.975e-05   4.45e-06    -22.402      0.000      -0.000    -9.1e-05\n",
      "loan_int_rate                      0.0490      0.014      3.410      0.001       0.021       0.077\n",
      "loan_percent_income               13.0930      0.260     50.381      0.000      12.584      13.602\n",
      "cb_person_cred_hist_length         0.0041      0.010      0.422      0.673      -0.015       0.023\n",
      "loan_grade_A                      -2.5939        nan        nan        nan         nan         nan\n",
      "loan_grade_B                      -2.3257        nan        nan        nan         nan         nan\n",
      "loan_grade_C                      -2.1438        nan        nan        nan         nan         nan\n",
      "loan_grade_D                       0.0273        nan        nan        nan         nan         nan\n",
      "loan_grade_E                       0.2345        nan        nan        nan         nan         nan\n",
      "loan_grade_F                       0.6756        nan        nan        nan         nan         nan\n",
      "loan_grade_G                       4.0394        nan        nan        nan         nan         nan\n",
      "loan_intent_DEBTCONSOLIDATION      0.0703        nan        nan        nan         nan         nan\n",
      "loan_intent_EDUCATION             -0.7336        nan        nan        nan         nan         nan\n",
      "loan_intent_HOMEIMPROVEMENT        0.1675        nan        nan        nan         nan         nan\n",
      "loan_intent_MEDICAL               -0.0642        nan        nan        nan         nan         nan\n",
      "loan_intent_PERSONAL              -0.5084        nan        nan        nan         nan         nan\n",
      "loan_intent_VENTURE               -1.0183        nan        nan        nan         nan         nan\n",
      "person_home_ownership_MORTGAGE    -0.4478        nan        nan        nan         nan         nan\n",
      "person_home_ownership_OTHER        0.0471        nan        nan        nan         nan         nan\n",
      "person_home_ownership_OWN         -2.0981        nan        nan        nan         nan         nan\n",
      "person_home_ownership_RENT         0.4122        nan        nan        nan         nan         nan\n",
      "cb_person_default_on_file_N       -1.0617   6.72e+05  -1.58e-06      1.000   -1.32e+06    1.32e+06\n",
      "cb_person_default_on_file_Y       -1.0249   6.72e+05  -1.53e-06      1.000   -1.32e+06    1.32e+06\n",
      "==================================================================================================\n"
     ]
    }
   ],
   "source": [
    "print(model1.summary())"
   ]
  },
  {
   "cell_type": "markdown",
   "metadata": {},
   "source": [
    "### Podemos observar o valor dos coeficientes e seus respectivos p-valores, desvio padrão da estimativa dos coeficientes e intervalo de confiança.\n",
    "### A idade da pessoa tem coeficiente negativo indicando que quando a idade aumenta a chance de inadimplência diminui, o mesmo com a renda da pessoa, o tempo em que a pessoa está empregada, a quantidade no empréstimo, taxa de juros, todas as intenções para o empréstimo e quando a pessoa possui a própria residência. "
   ]
  },
  {
   "cell_type": "code",
   "execution_count": 24,
   "metadata": {},
   "outputs": [
    {
     "name": "stdout",
     "output_type": "stream",
     "text": [
      "person_age                         True\n",
      "person_income                     False\n",
      "person_emp_length                  True\n",
      "loan_amnt                          True\n",
      "loan_int_rate                     False\n",
      "loan_percent_income               False\n",
      "cb_person_cred_hist_length        False\n",
      "loan_grade_A                       True\n",
      "loan_grade_B                       True\n",
      "loan_grade_C                       True\n",
      "loan_grade_D                      False\n",
      "loan_grade_E                      False\n",
      "loan_grade_F                      False\n",
      "loan_grade_G                      False\n",
      "loan_intent_DEBTCONSOLIDATION     False\n",
      "loan_intent_EDUCATION              True\n",
      "loan_intent_HOMEIMPROVEMENT       False\n",
      "loan_intent_MEDICAL                True\n",
      "loan_intent_PERSONAL               True\n",
      "loan_intent_VENTURE                True\n",
      "person_home_ownership_MORTGAGE     True\n",
      "person_home_ownership_OTHER       False\n",
      "person_home_ownership_OWN          True\n",
      "person_home_ownership_RENT        False\n",
      "cb_person_default_on_file_N        True\n",
      "cb_person_default_on_file_Y        True\n",
      "dtype: bool\n"
     ]
    }
   ],
   "source": [
    "print(model1.params < 0 )"
   ]
  },
  {
   "cell_type": "markdown",
   "metadata": {},
   "source": [
    "### quais coeficientes possuem p-valor maior que o nível de significância de 5%?"
   ]
  },
  {
   "cell_type": "code",
   "execution_count": 25,
   "metadata": {},
   "outputs": [
    {
     "name": "stdout",
     "output_type": "stream",
     "text": [
      "person_age                         True\n",
      "person_income                     False\n",
      "person_emp_length                 False\n",
      "loan_amnt                         False\n",
      "loan_int_rate                     False\n",
      "loan_percent_income               False\n",
      "cb_person_cred_hist_length         True\n",
      "loan_grade_A                      False\n",
      "loan_grade_B                      False\n",
      "loan_grade_C                      False\n",
      "loan_grade_D                      False\n",
      "loan_grade_E                      False\n",
      "loan_grade_F                      False\n",
      "loan_grade_G                      False\n",
      "loan_intent_DEBTCONSOLIDATION     False\n",
      "loan_intent_EDUCATION             False\n",
      "loan_intent_HOMEIMPROVEMENT       False\n",
      "loan_intent_MEDICAL               False\n",
      "loan_intent_PERSONAL              False\n",
      "loan_intent_VENTURE               False\n",
      "person_home_ownership_MORTGAGE    False\n",
      "person_home_ownership_OTHER       False\n",
      "person_home_ownership_OWN         False\n",
      "person_home_ownership_RENT        False\n",
      "cb_person_default_on_file_N        True\n",
      "cb_person_default_on_file_Y        True\n",
      "dtype: bool\n"
     ]
    }
   ],
   "source": [
    "print(model1.pvalues >= 0.05 )"
   ]
  },
  {
   "cell_type": "markdown",
   "metadata": {},
   "source": [
    "### Apenas a intenção de melhorar a residência, possuir e própria residência, e se a pessoa já foi inadimplente que possuem p-valor maior que 0.05 o p-valor pode ser menor do que 0.05 por conta da aleatoriedade mesmo ou estas variáveis não agregam tanto assim para a predição mesmo."
   ]
  },
  {
   "cell_type": "code",
   "execution_count": 26,
   "metadata": {},
   "outputs": [],
   "source": [
    "accuracy = accuracy_score(y_test, y_pred)\n",
    "confusion = confusion_matrix(y_test, y_pred, labels=model.classes_)\n",
    "report = classification_report(y_test, y_pred)"
   ]
  },
  {
   "cell_type": "code",
   "execution_count": 27,
   "metadata": {},
   "outputs": [],
   "source": [
    "accuracy = accuracy_score(y_test, y_pred)\n",
    "confusion = confusion_matrix(y_test, y_pred, labels=model.classes_)\n",
    "report = classification_report(y_test, y_pred)"
   ]
  },
  {
   "cell_type": "code",
   "execution_count": 28,
   "metadata": {},
   "outputs": [
    {
     "name": "stdout",
     "output_type": "stream",
     "text": [
      "Acurácia: 0.8029768298296762\n"
     ]
    }
   ],
   "source": [
    "print(\"Acurácia:\",accuracy)"
   ]
  },
  {
   "cell_type": "code",
   "execution_count": 29,
   "metadata": {},
   "outputs": [
    {
     "name": "stdout",
     "output_type": "stream",
     "text": [
      "report:               precision    recall  f1-score   support\n",
      "\n",
      "           0       0.81      0.98      0.89      5095\n",
      "           1       0.72      0.16      0.26      1422\n",
      "\n",
      "    accuracy                           0.80      6517\n",
      "   macro avg       0.76      0.57      0.57      6517\n",
      "weighted avg       0.79      0.80      0.75      6517\n",
      "\n"
     ]
    }
   ],
   "source": [
    "print('report:', report)"
   ]
  },
  {
   "cell_type": "code",
   "execution_count": 30,
   "metadata": {},
   "outputs": [
    {
     "data": {
      "image/png": "[encoded data removed]",
      "text/plain": [
       "<Figure size 640x480 with 2 Axes>"
      ]
     },
     "metadata": {},
     "output_type": "display_data"
    }
   ],
   "source": [
    "\n",
    "disp = ConfusionMatrixDisplay(confusion_matrix=confusion,\n",
    "                              display_labels=model.classes_)\n",
    "disp.plot()\n",
    "plt.show()"
   ]
  },
  {
   "cell_type": "code",
   "execution_count": 31,
   "metadata": {},
   "outputs": [
    {
     "name": "stdout",
     "output_type": "stream",
     "text": [
      "Precisão é aproximadamente 69,47%\n",
      "Sensitividade é aproximadamente 57,10%\n",
      "Especifidade é aproximadamente 94,73%\n"
     ]
    }
   ],
   "source": [
    "print('Precisão é aproximadamente 69,47%' )\n",
    "print('Sensitividade é aproximadamente 57,10%')\n",
    "print('Especifidade é aproximadamente 94,73%')"
   ]
  },
  {
   "cell_type": "markdown",
   "metadata": {},
   "source": [
    "### O nosso modelo está com uma sensitividade baixa e uma especifidade alta, isso quer dizer que ele classifica os não inadimplentes de forma correta na maior parte das vezes que ele classifica como não inadimplente, mas quando ele classifica como inadimplente ele erra a maior parte das vezes, e que ele classifica inadimplentes como não inadimplentes com frequencia."
   ]
  },
  {
   "cell_type": "code",
   "execution_count": 32,
   "metadata": {},
   "outputs": [
    {
     "data": {
      "image/png": "[encoded data removed]",
      "text/plain": [
       "<Figure size 640x480 with 1 Axes>"
      ]
     },
     "metadata": {},
     "output_type": "display_data"
    }
   ],
   "source": [
    "# probabilidade das predições\n",
    "y_chapeu = model.predict_proba(X_test)\n",
    "pos_probs = y_chapeu[:, 1] # prob de positivo.\n",
    "# calculando linha de inadimplentes \n",
    "inadimplente = len(y[y==1])/len(y)\n",
    "\n",
    "# plot da precision-recall curve do grupo de inadimplentes\n",
    "pyplot.plot([0, 1], [inadimplente, inadimplente], linestyle='--', label='inadimplente')\n",
    "\n",
    "# calculate model precision-recall curve\n",
    "precision, recall, _ = precision_recall_curve(y_test, pos_probs)\n",
    "# plot the model precision-recall curve\n",
    "pyplot.plot(recall, precision, marker='.', label='Logistic')\n",
    "# axis labels\n",
    "pyplot.xlabel('Recall')\n",
    "pyplot.ylabel('Precision')\n",
    "# show the legend\n",
    "pyplot.legend()\n",
    "# show the plot\n",
    "pyplot.show()\n"
   ]
  },
  {
   "cell_type": "code",
   "execution_count": null,
   "metadata": {},
   "outputs": [],
   "source": []
  }
 ],
 "metadata": {
  "kernelspec": {
   "display_name": "Python 3",
   "language": "python",
   "name": "python3"
  },
  "language_info": {
   "codemirror_mode": {
    "name": "ipython",
    "version": 3
   },
   "file_extension": ".py",
   "mimetype": "text/x-python",
   "name": "python",
   "nbconvert_exporter": "python",
   "pygments_lexer": "ipython3",
   "version": "3.10.12"
  },
  "orig_nbformat": 4
 },
 "nbformat": 4,
 "nbformat_minor": 2
}
